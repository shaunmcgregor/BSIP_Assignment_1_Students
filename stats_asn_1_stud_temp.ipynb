{
 "cells": [
  {
   "cell_type": "code",
   "execution_count": 2,
   "metadata": {},
   "outputs": [],
   "source": [
    "\n",
    "\n",
    "import thinkplot\n",
    "import thinkstats2\n",
    "import pandas as pd\n",
    "import numpy as np\n",
    "import scipy\n",
    "import seaborn as sns\n",
    "from matplotlib import pyplot as plt\n",
    "\n"
   ]
  },
  {
   "cell_type": "markdown",
   "metadata": {},
   "source": [
    "# Assignment #1 - Basic Data Exploration in Python\n",
    "\n",
    "## Assignment Overview\n",
    "\n",
    "In this assignment you'll load some data into a python notebook, and use some basic functions to do some basic analysis. Each section asks you to either calculate some answers or explore some information found in the data. When generating your answers, try to think about a few factors that can make your code better:\n",
    "<ul>\n",
    "<li> Present the answers clearly. Use the markdown cells, code comments, and formatting to help make your answers readable. One of the features of notebooks is that they allow us to combine code and commentary, and we need to ensure both are readable. Refer to the guide in the guides folder of the exercises workbook for an explaination and examples of different formatting. \n",
    "<li> Make your code clear. It is easy to make sense of small pieces of code, for short periods of time, so if your code makes little sense here, it won't really hurt your ability to find the answers. If you need to come back to it later, or others need to edit it, having code that doesn't make sense is a big issue. Use things like clearly named variables, comments, and spacing to make things readable. Even in this course, if you are looking back to something from 2 months ago for the project, it is far easier to understand code that is cleaned up a little. \n",
    "<li> Structure the code well. If there is some kind of repetitive task, it should likely be moved into a function. If there is something that happens several times, it should be in a loop. Having well structured code makes it easy to reuse stuff later, understand how things work, debug errors, and share code with others. This is something to keep in the back of your minds, right now you may not have much experience to lean on to judge how things should be, as you read, adjust, and write code it will become more clear. \n",
    "</ul>\n",
    "\n",
    "## Peer Evaluation\n",
    "\n",
    "This assignemnt will have a peer evaluation for the grade - you'll each read some other notebooks and evaluate their answers. The reason for this is not (entirely) my personal laziness, we are hoping to accomplish a couple of things:\n",
    "<ul>\n",
    "<li> Quick experience reading notebooks. One of the important skills we need to have is the ability to read examples that we find and adapting it to our scenario. This is practice with data you're now comfortable with.\n",
    "<li> Critically evaluating what makes sense in a data notebook. You know how you attempted to explain your look at the data, how did other people do it? What was better? What was worse?\n",
    "<li> Design is subjective. This will give you a set of opinions that are not mine. You will end up with plenty of feedback of what I think, feadback of others early-on should hopefully help you make things appealing to all and not tailored to me. \n",
    "</ul>\n",
    "Doing this right up front will hopefully help kickstart some of that expericence. \n",
    "\n",
    "### Grading\n",
    "\n",
    "The detailed grading is defined in the marking guide in the Moodle workshop. Note that there's points both for getting a correct answer and for presenting it in a way that makes sense. \n",
    "\n",
    "## Structure\n",
    "\n",
    "Each section contains a set of questions/prompts and a rough framework for your responses. You can change the structure around, just make sure it is readable. What I have there is just a loose guide to help get you started, you're not bound to it. "
   ]
  },
  {
   "cell_type": "markdown",
   "metadata": {},
   "source": [
    "## Load Data\n",
    "\n",
    "Load the labor data into a dataframe. You probably don't want to change this section. "
   ]
  },
  {
   "cell_type": "code",
   "execution_count": 3,
   "metadata": {},
   "outputs": [
    {
     "data": {
      "text/html": [
       "<div>\n",
       "<style scoped>\n",
       "    .dataframe tbody tr th:only-of-type {\n",
       "        vertical-align: middle;\n",
       "    }\n",
       "\n",
       "    .dataframe tbody tr th {\n",
       "        vertical-align: top;\n",
       "    }\n",
       "\n",
       "    .dataframe thead th {\n",
       "        text-align: right;\n",
       "    }\n",
       "</style>\n",
       "<table border=\"1\" class=\"dataframe\">\n",
       "  <thead>\n",
       "    <tr style=\"text-align: right;\">\n",
       "      <th></th>\n",
       "      <th>Age</th>\n",
       "      <th>Eduacation</th>\n",
       "      <th>Race</th>\n",
       "      <th>Hisp</th>\n",
       "      <th>MaritalStatus</th>\n",
       "      <th>Nodeg</th>\n",
       "      <th>Earnings_1974</th>\n",
       "      <th>Earnings_1975</th>\n",
       "      <th>Earnings_1978</th>\n",
       "    </tr>\n",
       "  </thead>\n",
       "  <tbody>\n",
       "    <tr>\n",
       "      <th>0</th>\n",
       "      <td>45</td>\n",
       "      <td>LessThanHighSchool</td>\n",
       "      <td>NotBlack</td>\n",
       "      <td>NotHispanic</td>\n",
       "      <td>Married</td>\n",
       "      <td>1</td>\n",
       "      <td>21516.670</td>\n",
       "      <td>25243.550</td>\n",
       "      <td>25564.670</td>\n",
       "    </tr>\n",
       "    <tr>\n",
       "      <th>1</th>\n",
       "      <td>21</td>\n",
       "      <td>Intermediate</td>\n",
       "      <td>NotBlack</td>\n",
       "      <td>NotHispanic</td>\n",
       "      <td>NotMarried</td>\n",
       "      <td>0</td>\n",
       "      <td>3175.971</td>\n",
       "      <td>5852.565</td>\n",
       "      <td>13496.080</td>\n",
       "    </tr>\n",
       "    <tr>\n",
       "      <th>2</th>\n",
       "      <td>38</td>\n",
       "      <td>HighSchool</td>\n",
       "      <td>NotBlack</td>\n",
       "      <td>NotHispanic</td>\n",
       "      <td>Married</td>\n",
       "      <td>0</td>\n",
       "      <td>23039.020</td>\n",
       "      <td>25130.760</td>\n",
       "      <td>25564.670</td>\n",
       "    </tr>\n",
       "    <tr>\n",
       "      <th>3</th>\n",
       "      <td>48</td>\n",
       "      <td>LessThanHighSchool</td>\n",
       "      <td>NotBlack</td>\n",
       "      <td>NotHispanic</td>\n",
       "      <td>Married</td>\n",
       "      <td>1</td>\n",
       "      <td>24994.370</td>\n",
       "      <td>25243.550</td>\n",
       "      <td>25564.670</td>\n",
       "    </tr>\n",
       "    <tr>\n",
       "      <th>4</th>\n",
       "      <td>18</td>\n",
       "      <td>LessThanHighSchool</td>\n",
       "      <td>NotBlack</td>\n",
       "      <td>NotHispanic</td>\n",
       "      <td>Married</td>\n",
       "      <td>1</td>\n",
       "      <td>1669.295</td>\n",
       "      <td>10727.610</td>\n",
       "      <td>9860.869</td>\n",
       "    </tr>\n",
       "  </tbody>\n",
       "</table>\n",
       "</div>"
      ],
      "text/plain": [
       "   Age          Eduacation      Race         Hisp MaritalStatus  Nodeg  \\\n",
       "0   45  LessThanHighSchool  NotBlack  NotHispanic       Married      1   \n",
       "1   21        Intermediate  NotBlack  NotHispanic    NotMarried      0   \n",
       "2   38          HighSchool  NotBlack  NotHispanic       Married      0   \n",
       "3   48  LessThanHighSchool  NotBlack  NotHispanic       Married      1   \n",
       "4   18  LessThanHighSchool  NotBlack  NotHispanic       Married      1   \n",
       "\n",
       "   Earnings_1974  Earnings_1975  Earnings_1978  \n",
       "0      21516.670      25243.550      25564.670  \n",
       "1       3175.971       5852.565      13496.080  \n",
       "2      23039.020      25130.760      25564.670  \n",
       "3      24994.370      25243.550      25564.670  \n",
       "4       1669.295      10727.610       9860.869  "
      ]
     },
     "execution_count": 3,
     "metadata": {},
     "output_type": "execute_result"
    }
   ],
   "source": [
    "#Load/preview data\n",
    "df = pd.read_csv(\"LabourTrainingEvaluationData.csv\")\n",
    "df.head()"
   ]
  },
  {
   "cell_type": "code",
   "execution_count": 4,
   "metadata": {},
   "outputs": [
    {
     "data": {
      "text/html": [
       "<div>\n",
       "<style scoped>\n",
       "    .dataframe tbody tr th:only-of-type {\n",
       "        vertical-align: middle;\n",
       "    }\n",
       "\n",
       "    .dataframe tbody tr th {\n",
       "        vertical-align: top;\n",
       "    }\n",
       "\n",
       "    .dataframe thead th {\n",
       "        text-align: right;\n",
       "    }\n",
       "</style>\n",
       "<table border=\"1\" class=\"dataframe\">\n",
       "  <thead>\n",
       "    <tr style=\"text-align: right;\">\n",
       "      <th></th>\n",
       "      <th>Age</th>\n",
       "      <th>Nodeg</th>\n",
       "      <th>Earnings_1974</th>\n",
       "      <th>Earnings_1975</th>\n",
       "      <th>Earnings_1978</th>\n",
       "    </tr>\n",
       "  </thead>\n",
       "  <tbody>\n",
       "    <tr>\n",
       "      <th>count</th>\n",
       "      <td>15992.000000</td>\n",
       "      <td>15992.000000</td>\n",
       "      <td>15992.000000</td>\n",
       "      <td>15992.000000</td>\n",
       "      <td>15992.000000</td>\n",
       "    </tr>\n",
       "    <tr>\n",
       "      <th>mean</th>\n",
       "      <td>33.225238</td>\n",
       "      <td>0.295835</td>\n",
       "      <td>14016.800304</td>\n",
       "      <td>13650.803376</td>\n",
       "      <td>14846.659673</td>\n",
       "    </tr>\n",
       "    <tr>\n",
       "      <th>std</th>\n",
       "      <td>11.045216</td>\n",
       "      <td>0.456432</td>\n",
       "      <td>9569.795893</td>\n",
       "      <td>9270.403225</td>\n",
       "      <td>9647.391524</td>\n",
       "    </tr>\n",
       "    <tr>\n",
       "      <th>min</th>\n",
       "      <td>16.000000</td>\n",
       "      <td>0.000000</td>\n",
       "      <td>0.000000</td>\n",
       "      <td>0.000000</td>\n",
       "      <td>0.000000</td>\n",
       "    </tr>\n",
       "    <tr>\n",
       "      <th>25%</th>\n",
       "      <td>24.000000</td>\n",
       "      <td>0.000000</td>\n",
       "      <td>4403.452250</td>\n",
       "      <td>4398.823000</td>\n",
       "      <td>5669.298000</td>\n",
       "    </tr>\n",
       "    <tr>\n",
       "      <th>50%</th>\n",
       "      <td>31.000000</td>\n",
       "      <td>0.000000</td>\n",
       "      <td>15123.580000</td>\n",
       "      <td>14557.110000</td>\n",
       "      <td>16421.975000</td>\n",
       "    </tr>\n",
       "    <tr>\n",
       "      <th>75%</th>\n",
       "      <td>42.000000</td>\n",
       "      <td>1.000000</td>\n",
       "      <td>23584.180000</td>\n",
       "      <td>22923.737500</td>\n",
       "      <td>25564.670000</td>\n",
       "    </tr>\n",
       "    <tr>\n",
       "      <th>max</th>\n",
       "      <td>55.000000</td>\n",
       "      <td>1.000000</td>\n",
       "      <td>25862.320000</td>\n",
       "      <td>25243.550000</td>\n",
       "      <td>25564.670000</td>\n",
       "    </tr>\n",
       "  </tbody>\n",
       "</table>\n",
       "</div>"
      ],
      "text/plain": [
       "                Age         Nodeg  Earnings_1974  Earnings_1975  Earnings_1978\n",
       "count  15992.000000  15992.000000   15992.000000   15992.000000   15992.000000\n",
       "mean      33.225238      0.295835   14016.800304   13650.803376   14846.659673\n",
       "std       11.045216      0.456432    9569.795893    9270.403225    9647.391524\n",
       "min       16.000000      0.000000       0.000000       0.000000       0.000000\n",
       "25%       24.000000      0.000000    4403.452250    4398.823000    5669.298000\n",
       "50%       31.000000      0.000000   15123.580000   14557.110000   16421.975000\n",
       "75%       42.000000      1.000000   23584.180000   22923.737500   25564.670000\n",
       "max       55.000000      1.000000   25862.320000   25243.550000   25564.670000"
      ]
     },
     "execution_count": 4,
     "metadata": {},
     "output_type": "execute_result"
    }
   ],
   "source": [
    "df.describe()"
   ]
  },
  {
   "cell_type": "markdown",
   "metadata": {},
   "source": [
    "## Part 1 - Age\n",
    "\n",
    "<ol>\n",
    "<li> Make and plot a Hist and Pmf for age.\n",
    "<li> What fraction of the people in the data are 51? What fraction are older than 51?\n",
    "<li> What is the median age? \n",
    "<li> Does the distribution of the sample data seem to mirror the working age population?\n",
    "</ol>"
   ]
  },
  {
   "cell_type": "markdown",
   "metadata": {},
   "source": [
    "#### Make and plot a Hist and Pmf for age."
   ]
  },
  {
   "cell_type": "markdown",
   "metadata": {},
   "source": [
    "### Data \"cleaning\" just in case"
   ]
  },
  {
   "cell_type": "code",
   "execution_count": 5,
   "metadata": {},
   "outputs": [],
   "source": [
    "age = df[\"Age\"]\n",
    "#clean out any nans\n",
    "age = age[~np.isnan(age)]"
   ]
  },
  {
   "cell_type": "markdown",
   "metadata": {},
   "source": [
    "## Age Hist"
   ]
  },
  {
   "cell_type": "code",
   "execution_count": 6,
   "metadata": {},
   "outputs": [
    {
     "data": {
      "image/png": "[encoded data removed]",
      "text/plain": [
       "<Figure size 432x288 with 1 Axes>"
      ]
     },
     "metadata": {
      "needs_background": "light"
     },
     "output_type": "display_data"
    }
   ],
   "source": [
    "ageHist = thinkstats2.Hist(age, label=\"Age in Years\")\n",
    "thinkplot.Hist(ageHist)\n",
    "thinkplot.Config(xlabel = \"Age in Years\", ylabel = \"Count\")"
   ]
  },
  {
   "cell_type": "markdown",
   "metadata": {},
   "source": [
    "## Age PMF"
   ]
  },
  {
   "cell_type": "code",
   "execution_count": 7,
   "metadata": {},
   "outputs": [
    {
     "data": {
      "image/png": "[encoded data removed]",
      "text/plain": [
       "<Figure size 432x288 with 1 Axes>"
      ]
     },
     "metadata": {
      "needs_background": "light"
     },
     "output_type": "display_data"
    }
   ],
   "source": [
    "# we'll use the `ageHist` variable to do the pmf, I don't think there is any pressing reason to do otherwise\n",
    "thinkplot.pmf(ageHist)\n",
    "thinkplot.config(xlabel = \"Age in Years\", ylabel = \"Count\")"
   ]
  },
  {
   "cell_type": "markdown",
   "metadata": {},
   "source": [
    "#### What fraction of the people in the data are 51? What fraction are older than 51?"
   ]
  },
  {
   "cell_type": "code",
   "execution_count": 8,
   "metadata": {},
   "outputs": [],
   "source": [
    "# I made functions up here just to keep the next code block a bit cleaner\n",
    "# lets do a little function that will return the percent of people at a certain value\n",
    "def PercentAtValue(scores, value):\n",
    "    # this only works with whole numbers...\n",
    "    lower = value - 1\n",
    "    higher = value + 1\n",
    "    return 100.0 * (scores[higher] - scores[lower])\n",
    "\n",
    "# Get the total percent of scores above a given value~\n",
    "def TotalPercentAboveValue(scores, value):\n",
    "    count = 0\n",
    "    for score in scores:\n",
    "        if score > value:\n",
    "            count += 1\n",
    "    \n",
    "    returnPercent = 100.0 * count / len(scores)\n",
    "    return returnPercent"
   ]
  },
  {
   "cell_type": "markdown",
   "metadata": {},
   "source": [
    "## Percent(fraction) at exactly 51"
   ]
  },
  {
   "cell_type": "code",
   "execution_count": 9,
   "metadata": {},
   "outputs": [
    {
     "name": "stdout",
     "output_type": "stream",
     "text": [
      "Percent of ages at exactly 51:  3.8 %\n"
     ]
    }
   ],
   "source": [
    "ageCdf = thinkstats2.Cdf(age)\n",
    "print(\"Percent of ages at exactly 51: \", round(PercentAtValue(ageCdf, 51),2), \"%\")"
   ]
  },
  {
   "cell_type": "markdown",
   "metadata": {},
   "source": [
    "If we want to get real perscriptive the fraction for 3.8% is 19/500 [source](https://www.wolframalpha.com/input?i=fraction+for+0.038)"
   ]
  },
  {
   "cell_type": "markdown",
   "metadata": {},
   "source": [
    "## Percent(fraction) above 51"
   ]
  },
  {
   "cell_type": "code",
   "execution_count": 10,
   "metadata": {},
   "outputs": [
    {
     "name": "stdout",
     "output_type": "stream",
     "text": [
      "Percent of ages above 51:  7.32 %\n"
     ]
    }
   ],
   "source": [
    "print(\"Percent of ages above 51: \", round(TotalPercentAboveValue(age, 51), 2), \"%\")"
   ]
  },
  {
   "cell_type": "markdown",
   "metadata": {},
   "source": [
    "Fraction of 7.32% is 183/2500 [source](https://www.wolframalpha.com/input?i=fraction+for+0.0732)"
   ]
  },
  {
   "cell_type": "markdown",
   "metadata": {},
   "source": [
    "##### What is the median age?"
   ]
  },
  {
   "cell_type": "code",
   "execution_count": 11,
   "metadata": {},
   "outputs": [
    {
     "name": "stdout",
     "output_type": "stream",
     "text": [
      "Median age in years:  31.0\n"
     ]
    }
   ],
   "source": [
    "print(\"Median age in years: \",age.median())"
   ]
  },
  {
   "cell_type": "markdown",
   "metadata": {},
   "source": [
    "##### Does the distribution of the sample data seem to mirror the working age population?"
   ]
  },
  {
   "cell_type": "markdown",
   "metadata": {},
   "source": [
    "I think it mirrors the working age population (for the 1970s), I think that drop between 28 and 29 can be explained by a few things.\n",
    " 1. People (predominantly women) leaving the workforce to become stay at home parents. \n",
    " 1. The post world war 2 baby boom that started in 1946 would explain why there are more folks around 30 in the workforce because there were more people in total.\n",
    " 1. There will always be a tailing off of people that are working as a population gets older as they become less able to work and more able to retire."
   ]
  },
  {
   "cell_type": "markdown",
   "metadata": {},
   "source": [
    "### Part 2 - Demographics\n",
    "\n",
    "<ul>\n",
    "<li>Consider some of the demographic features: \n",
    "    <ul>\n",
    "    <li>Education\n",
    "    <li>Race\n",
    "    <li>Hisp\n",
    "    <li>MaritalStatus\n",
    "    <li>Nodeg. \n",
    "    </ul>\n",
    "</ul>\n",
    "<ol>\n",
    "<li>This data came from the United States, does it appear to be a representative sample of the US population?\n",
    "<li>Demonstrate this in some way in your code. \n",
    "</ol>\n",
    "\n",
    "##### Exploring the data..."
   ]
  },
  {
   "cell_type": "markdown",
   "metadata": {},
   "source": [
    "## US statistics for 1978 \n",
    "First, we will assume the data we have is from 1978 or later, we can assume this because we know the earnings for each person in 1978.\n",
    "From the US census.gov site we will pull what we can for 1978. [This was the PDF I used for these stats](https://www2.census.gov/library/publications/1978/compendia/statab/99ed/1978-01.pdf)\n",
    "\n",
    "\n",
    " * % of US population \"NotBlack\" & \"NotHispanic\" (does this mean caucasian, or should we include aboriginals etc?) **87.5** <sup>Page 35</sup>\n",
    " * % of US population \"black\" & \"NotHispanic\" **11.1** <sup>Page 35</sup>\n",
    " * % of US population \"NotBlack\" & \"hispanic\" **5.1** <sup>Page 32</sup>"
   ]
  },
  {
   "cell_type": "code",
   "execution_count": 12,
   "metadata": {},
   "outputs": [
    {
     "name": "stdout",
     "output_type": "stream",
     "text": [
      "Count of both hispanic and black:  0\n"
     ]
    }
   ],
   "source": [
    "# lets get seperate our df into three groups\n",
    "whiteCount = len(df[(df[\"Race\"] == \"NotBlack\") & (df[\"Hisp\"] == \"NotHispanic\")])\n",
    "blackCount = len(df[(df[\"Race\"] == \"black\") & (df[\"Hisp\"] == \"NotHispanic\")])\n",
    "hispanicCount = len(df[(df[\"Hisp\"] == \"hispanic\") & (df[\"Race\"] == \"NotBlack\")])\n",
    "hispanicAndBlackCount = len(df[(df[\"Hisp\"] == \"hispanic\") & (df[\"Race\"] == \"black\")]) \n",
    "# `hispanicAndBlackCount` should be zero, because our data is old and a bit racist?\n",
    "print(\"Count of both hispanic and black: \", hispanicAndBlackCount)"
   ]
  },
  {
   "cell_type": "markdown",
   "metadata": {},
   "source": [
    "Since we have no records that are both hispanic and black we'll ignore that as a possiblity from here on out"
   ]
  },
  {
   "cell_type": "code",
   "execution_count": 13,
   "metadata": {},
   "outputs": [
    {
     "name": "stdout",
     "output_type": "stream",
     "text": [
      "Sample white percent of population(should be about 0.875):  0.854\n",
      "Sample black percent of population(should be about 0.111):  0.074\n",
      "Sample hispanic percent of population(should be about 0.051):  0.072\n"
     ]
    }
   ],
   "source": [
    "#Maths!\n",
    "# get the totalnumber\n",
    "totalSample = len(df)\n",
    "\n",
    "print(\"Sample white percent of population(should be about 0.875): \", round(whiteCount/totalSample,3))\n",
    "print(\"Sample black percent of population(should be about 0.111): \", round(blackCount/totalSample,3))\n",
    "print(\"Sample hispanic percent of population(should be about 0.051): \", round(hispanicCount/totalSample,3))"
   ]
  },
  {
   "cell_type": "markdown",
   "metadata": {},
   "source": [
    "Our race data lines up nicely, lets do check what portion of Americans had high school or better education in 1978. From our census pdf on page 38 we can see that 65% of all races have completed highschool or better, white peopleare about 67% and black people are 46% in 1977. I'll make an assumption that 1978 isn't all that different."
   ]
  },
  {
   "cell_type": "code",
   "execution_count": 30,
   "metadata": {},
   "outputs": [
    {
     "name": "stdout",
     "output_type": "stream",
     "text": [
      "People in sample with highschool or above education (should be about 0.65):  0.704\n",
      "People in sample with highschool or above education that are \"NotBlack\" (should be about 0.67):  0.349\n",
      "People in sample with highschool or above education that are \"Black\" (should be about 0.46):  0.566\n"
     ]
    }
   ],
   "source": [
    "# The irony that Education is the column name that is spelt wrong\n",
    "allHighSchoolOrBetterCount = len(df[~(df[\"Eduacation\"] == \"LessThanHighSchool\")])\n",
    "whiteHighSchoolOrBetterCount = len(df[~(df[\"Eduacation\"] == \"LessThanHighSchool\") & (df[\"Race\"] == \"NotBlack\")])\n",
    "blackHighSchoolOrBetterCount = len(df[~(df[\"Eduacation\"] == \"LessThanHighSchool\") & (df[\"Race\"] == \"black\")])\n",
    "# totalSample is the variable created above that has the total count of records in the dataframe\n",
    "print(\"People in sample with highschool or above education (should be about 0.65): \", round(allHighSchoolOrBetterCount/totalSample,3))\n",
    "print(\"People in sample with highschool or above education that are \\\"NotBlack\\\" (should be about 0.67): \", round(whiteHighSchoolOrBetterCount/whiteCount,3))\n",
    "print(\"People in sample with highschool or above education that are \\\"Black\\\" (should be about 0.46): \", round(blackHighSchoolOrBetterCount/blackCount,3))\n"
   ]
  },
  {
   "cell_type": "code",
   "execution_count": 29,
   "metadata": {},
   "outputs": [
    {
     "data": {
      "text/plain": [
       "HighSchool            6252\n",
       "LessThanHighSchool    4731\n",
       "Intermediate          2708\n",
       "graduate              1367\n",
       "PostGraduate           934\n",
       "Name: Eduacation, dtype: int64"
      ]
     },
     "execution_count": 29,
     "metadata": {},
     "output_type": "execute_result"
    }
   ],
   "source": [
    "df[\"Eduacation\"].value_counts()"
   ]
  },
  {
   "cell_type": "markdown",
   "metadata": {},
   "source": [
    "##### Demographic Conclusion\n",
    "\n",
    "Our sample looks **representative** to the US population from 1978, based on race. The biggest difference is the black population which is off by 3.7% the other two are off by 2.1%. "
   ]
  },
  {
   "cell_type": "markdown",
   "metadata": {},
   "source": [
    "### Part 3 - Earnings\n",
    "\n",
    "<ol>\n",
    "<li>Make and plot a graph or graph of your choosing of the 3 earnings values, in order to answer the below question. Identify how the graph gave you your answer.\n",
    "    <ul>\n",
    "    <li>What is one conclusion could you draw from visualizing of the earnings in the different year? Please express it in plain language/non-statistics terms/as though you were explaining to one of your friends what happened to earnings between 1974 and 1978?\n",
    "    </ul>\n",
    "<li>Which has the greatest effect size on 1978 earnings: Race, Hispanic, MaritalStatus, or Nodeg? \n",
    "    <ul>\n",
    "    <li>What could you investigate further in an attempt to explain this?\n",
    "    </ul>\n",
    "<li>Plot a histogram and PMF, and compute useful descriptive statistics (think: average...) for the 1978 earnings value. Use the \"Cohorts\" code from the quiz to break the data into cohorts, plotting each group (either on one chart, or separately, whichever makes the most sense for examining the data - state specifically why you chose 1 vs many charts.\n",
    "    <ul>\n",
    "    <li>What is the difference in median income between the groups?\n",
    "    <li>Theorize a reason for the difference between the groups that could be explained with more data. Briefly describe the data you'd need. This does not need to be something you have data for, or know how to solve right now - just one well founded hypothesis on what might explain the difference.\n",
    "    </ul>\n",
    "<li>Are there outliers in the 1978 earnings data? Demonstrate this in some way with your code. \n",
    "    <ul>\n",
    "    <li>What can you infer from the presence of outliers that may impact analysis of this data.\n",
    "    </ul>\n",
    "</ol>"
   ]
  },
  {
   "cell_type": "markdown",
   "metadata": {},
   "source": [
    "## Question 1 \n",
    "What is one conclusion could you draw from visualizing of the earnings in the different year? Please express it in plain language/non-statistics terms/as though you were explaining to one of your friends what happened to earnings between 1974 and 1978?"
   ]
  },
  {
   "cell_type": "code",
   "execution_count": 36,
   "metadata": {},
   "outputs": [],
   "source": [
    "# get the earnings into pandas series objects so that we can use seaborn to graph them below\n",
    "earnings1974Series = pd.Series(round(df[\"Earnings_1974\"],-2))\n",
    "earnings1975Series = pd.Series(round(df[\"Earnings_1975\"], -2))\n",
    "earnings1978Series = pd.Series(round(df[\"Earnings_1978\"], -2))"
   ]
  },
  {
   "cell_type": "code",
   "execution_count": 38,
   "metadata": {},
   "outputs": [
    {
     "data": {
      "text/plain": [
       "<matplotlib.legend.Legend at 0x210c63981f0>"
      ]
     },
     "execution_count": 38,
     "metadata": {},
     "output_type": "execute_result"
    },
    {
     "data": {
      "image/png": "[encoded data removed]",
      "text/plain": [
       "<Figure size 432x288 with 1 Axes>"
      ]
     },
     "metadata": {
      "needs_background": "light"
     },
     "output_type": "display_data"
    }
   ],
   "source": [
    "sns.histplot(data=earnings1974Series, color=\"red\", stat=\"count\", kde=False, element=\"poly\", fill=False, label=\"1974\")\n",
    "sns.histplot(data=earnings1975Series, color=\"blue\", stat=\"count\", kde=False, element=\"poly\", fill=False, label=\"1975\")\n",
    "sns.histplot(data=earnings1978Series, color=\"green\", stat=\"count\", kde=False, element=\"poly\", fill=False, label=\"1978\")\n",
    "plt.legend()\n"
   ]
  },
  {
   "cell_type": "markdown",
   "metadata": {},
   "source": [
    "### What happened between 1974 and 1978\n",
    "Between 1974 and 1978 the earnings of this group of Americans mostly stayed the same. The biggest change was in the top earners, in 1978 the 10% with the highest earnings seemed to grow by about 1000 people. That is made clear by the fact that the green line (1978) on the right hand side of the graph is much higher than the red line (1974)."
   ]
  },
  {
   "cell_type": "markdown",
   "metadata": {},
   "source": [
    "## Question 2\n",
    "Which has the greatest effect size on 1978 earnings: Race, Hispanic, MaritalStatus, or Nodeg? What could you investigate further in an attempt to explain this?"
   ]
  },
  {
   "cell_type": "code",
   "execution_count": 55,
   "metadata": {},
   "outputs": [
    {
     "name": "stdout",
     "output_type": "stream",
     "text": [
      "Effect size on earnings by race:  -0.31883255859070525\n",
      "Effect size on earnings by hispanic:  -0.16210284395555566\n",
      "Effect size on earnings by marital status:  0.5737396692403472\n",
      "Effect size on earnings by no degree:  -0.3367928897615812\n"
     ]
    }
   ],
   "source": [
    "race_black = df[df[\"Race\"] == \"black\"]\n",
    "race_notBlack = df[df[\"Race\"] == \"NotBlack\"]\n",
    "print(\"Effect size on earnings by race: \", thinkstats2.CohenEffectSize(race_black[\"Earnings_1978\"], race_notBlack[\"Earnings_1978\"]))\n",
    "\n",
    "hispanic_hispanic = df[df[\"Hisp\"] == \"hispanic\"]\n",
    "hispanic_notHispanic = df[df[\"Hisp\"] == \"NotHispanic\"]\n",
    "print(\"Effect size on earnings by hispanic: \", thinkstats2.CohenEffectSize(hispanic_hispanic[\"Earnings_1978\"], hispanic_notHispanic[\"Earnings_1978\"]))\n",
    "\n",
    "marital_married = df[df[\"MaritalStatus\"] == \"Married\"]\n",
    "marital_notMarried = df[df[\"MaritalStatus\"] == \"NotMarried\"]\n",
    "print(\"Effect size on earnings by marital status: \", thinkstats2.CohenEffectSize(marital_married[\"Earnings_1978\"], marital_notMarried[\"Earnings_1978\"]))\n",
    "\n",
    "nodeg_true = df[df[\"Nodeg\"] == 1]\n",
    "nodeg_false = df[df[\"Nodeg\"] == 0]\n",
    "print(\"Effect size on earnings by no degree: \", thinkstats2.CohenEffectSize(nodeg_true[\"Earnings_1978\"], nodeg_false[\"Earnings_1978\"]))"
   ]
  },
  {
   "cell_type": "markdown",
   "metadata": {},
   "source": [
    "### Breakdown of effects on 1978 Earnings\n",
    "1. Race has a medium effect size on earnings in 1978\n",
    "1. Hispanic has a small effect size on earnings in 1978\n",
    "1. Marital status has a large effect sizze on earnings in 1978\n",
    "1. Nodeg has a medium effect size on earnings in 1978\n",
    "\n",
    "To explain this particular outcome I'd want to know if they had asked for household earnings or individual earnings. Houshold earnings would drive the married numbers up because there is a higher possibility that in households with married couples there are multiple income earners. We could also investigate whether the married folks are older and therfore have had more time to progress in their career, thus causing the income to go up."
   ]
  },
  {
   "cell_type": "markdown",
   "metadata": {},
   "source": [
    "## Question 4\n",
    "\n",
    "Are there outliers in the 1978 earnings data? Demonstrate this in some way with your code. What can you infer from the presence of outliers that may impact analysis of this data."
   ]
  },
  {
   "cell_type": "code",
   "execution_count": 62,
   "metadata": {},
   "outputs": [
    {
     "name": "stdout",
     "output_type": "stream",
     "text": [
      "null values in 1978 earings: 0\n"
     ]
    },
    {
     "data": {
      "image/png": "[encoded data removed]",
      "text/plain": [
       "<Figure size 432x288 with 1 Axes>"
      ]
     },
     "metadata": {
      "needs_background": "light"
     },
     "output_type": "display_data"
    }
   ],
   "source": [
    "\n",
    "sns.histplot(data= df[\"Earnings_1978\"], color=\"orange\", label=\"1978\") \n",
    "sns.histplot(data= df[\"Earnings_1974\"], label=\"1974\")\n",
    "plt.legend()\n",
    "print(\"null values in 1978 earings:\", df[\"Earnings_1978\"].isnull().sum())"
   ]
  },
  {
   "cell_type": "code",
   "execution_count": 66,
   "metadata": {},
   "outputs": [
    {
     "name": "stdout",
     "output_type": "stream",
     "text": [
      "number of records with the 1974 max amount:  3052\n",
      "number of records with the 1978 max amount:  4145\n"
     ]
    }
   ],
   "source": [
    "print(\"number of records with the 1974 max amount: \", len(df[df[\"Earnings_1974\"] == 25862.32]))\n",
    "print(\"number of records with the 1978 max amount: \", len(df[df[\"Earnings_1978\"] == 25564.67]))"
   ]
  },
  {
   "cell_type": "markdown",
   "metadata": {},
   "source": [
    "There are outliers in the 1978 earnings data, all the other bins basically line up with the 1974 data except for the maximum amount bin which has almost 1100 more people. \n",
    "\n",
    "Outliers can make the mean higher and make comparing means between the 3 years difficult. Outliers could change the effect size when comparing two diferent years because the outlier would increase variability and could also affect the standard deviation."
   ]
  }
 ],
 "metadata": {
  "kernelspec": {
   "display_name": "Python 3.9.12 ('base')",
   "language": "python",
   "name": "python3"
  },
  "language_info": {
   "codemirror_mode": {
    "name": "ipython",
    "version": 3
   },
   "file_extension": ".py",
   "mimetype": "text/x-python",
   "name": "python",
   "nbconvert_exporter": "python",
   "pygments_lexer": "ipython3",
   "version": "3.9.12"
  },
  "orig_nbformat": 4,
  "vscode": {
   "interpreter": {
    "hash": "a8db638d3b940bd10adfd3e31b9d30944957c89679bddca81ff9d9cb86f7e1de"
   }
  }
 },
 "nbformat": 4,
 "nbformat_minor": 2
}
